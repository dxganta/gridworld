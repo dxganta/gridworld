{
  "nbformat": 4,
  "nbformat_minor": 0,
  "metadata": {
    "colab": {
      "name": "RL_gridworld.ipynb",
      "provenance": [],
      "collapsed_sections": []
    },
    "kernelspec": {
      "name": "python3",
      "display_name": "Python 3"
    }
  },
  "cells": [
    {
      "cell_type": "markdown",
      "metadata": {
        "id": "myRaAcABGHFC",
        "colab_type": "text"
      },
      "source": [
        "# GridWorld State Value for all states"
      ]
    },
    {
      "cell_type": "code",
      "metadata": {
        "id": "SFh0zR4Bob25",
        "colab_type": "code",
        "colab": {
          "base_uri": "https://localhost:8080/",
          "height": 104
        },
        "outputId": "24789b8a-3715-46c7-bb0f-cf5222fb5fdf"
      },
      "source": [
        "import numpy as np\n",
        "\n",
        "grid = np.zeros((5,5))\n",
        "grid"
      ],
      "execution_count": 1,
      "outputs": [
        {
          "output_type": "execute_result",
          "data": {
            "text/plain": [
              "array([[0., 0., 0., 0., 0.],\n",
              "       [0., 0., 0., 0., 0.],\n",
              "       [0., 0., 0., 0., 0.],\n",
              "       [0., 0., 0., 0., 0.],\n",
              "       [0., 0., 0., 0., 0.]])"
            ]
          },
          "metadata": {
            "tags": []
          },
          "execution_count": 1
        }
      ]
    },
    {
      "cell_type": "code",
      "metadata": {
        "id": "6T1uH2KYHBTY",
        "colab_type": "code",
        "colab": {}
      },
      "source": [
        "Y = .90  #discount value\n",
        "for num in range(10): #number of times we will go through the whole grid\n",
        "  for i in range(5):      #all the rows\n",
        "    for j in range(5):    #all the columns\n",
        "      \n",
        "      up_grid = grid[i-1][j] if i > 0 else 0   #if going up takes us out of the grid then its value be 0\n",
        "      down_grid = grid[i+1][j] if i < 4 else 0  #if going down takes us out of the grid then its value be 0\n",
        "      left_grid = grid[i][j-1] if j > 0 else 0  #if going left takes us out of the grid then its value be 0\n",
        "      right_grid = grid[i][j+1] if j < 4 else 0  #if going right takes us out of the grid then its value be 0\n",
        "\n",
        "      all_dirs = [up_grid, down_grid, left_grid, right_grid]     \n",
        "\n",
        "      value=0  \n",
        "      if i==0 and j==1: # the position of A\n",
        "        value = 10 + Y*grid[4][1]\n",
        "      elif i==0 and j==3: # the position of B\n",
        "        value = 5 + Y*grid[2][3]\n",
        "      else:\n",
        "        for direc in all_dirs:\n",
        "          if direc != 0: \n",
        "            value += .25 * (0 + Y*direc)  #if we don't go out of the grid\n",
        "          else:\n",
        "            value += .25 * (-1 + Y*grid[i][j]) #if we go out of the grid\n",
        "        \n",
        "      grid[i][j] = value   \n"
      ],
      "execution_count": 0,
      "outputs": []
    },
    {
      "cell_type": "code",
      "metadata": {
        "id": "svU5dUsswS6z",
        "colab_type": "code",
        "outputId": "87e761bf-375e-42dc-a38d-b39627f71b65",
        "colab": {
          "base_uri": "https://localhost:8080/",
          "height": 104
        }
      },
      "source": [
        "np.round(grid, 1)"
      ],
      "execution_count": 3,
      "outputs": [
        {
          "output_type": "execute_result",
          "data": {
            "text/plain": [
              "array([[ 3.3,  8.8,  4.4,  5.3,  1.5],\n",
              "       [ 1.5,  3. ,  2.2,  1.9,  0.5],\n",
              "       [ 0. ,  0.7,  0.7,  0.4, -0.4],\n",
              "       [-1. , -0.4, -0.3, -0.6, -1.2],\n",
              "       [-1.9, -1.3, -1.2, -1.4, -1.9]])"
            ]
          },
          "metadata": {
            "tags": []
          },
          "execution_count": 3
        }
      ]
    },
    {
      "cell_type": "code",
      "metadata": {
        "id": "DQZUbYefdPr1",
        "colab_type": "code",
        "colab": {}
      },
      "source": [
        ""
      ],
      "execution_count": 0,
      "outputs": []
    }
  ]
}